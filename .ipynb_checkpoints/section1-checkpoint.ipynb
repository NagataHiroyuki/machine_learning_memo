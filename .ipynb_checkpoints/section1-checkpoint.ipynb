{
 "cells": [
  {
   "cell_type": "markdown",
   "metadata": {},
   "source": [
    "# section1\n",
    "### markdown\n",
    "m マークダウン記法  \n",
    "dd セル削除  \n",
    "k 上のセルに移動  \n",
    "d 下のセルに移動  \n",
    "space スクロールダウン  \n",
    "space+shift スクロールダウン  "
   ]
  },
  {
   "cell_type": "markdown",
   "metadata": {},
   "source": [
    "### 3種類の機械学習\n",
    "- 教師あり学習　未来予測\n",
    "- 教師なし学習　データから隠された情報を抜き出す\n",
    "- 強化学習　意思決定プロセス、報酬系、一連のアクションを学習  "
   ]
  },
  {
   "cell_type": "markdown",
   "metadata": {},
   "source": [
    "### 多様体学習\n",
    "多様体とは？－－局所的なユークリッド空間上の図形の張り合わせとみなせるような図形、空間  \n",
    "代表的な手法  \n",
    "- ISOMAP\n",
    "- 局所線形埋め込み法(locally linear mapping)"
   ]
  },
  {
   "cell_type": "markdown",
   "metadata": {},
   "source": [
    "### 前処理\n",
    "選択された特徴量の尺度を同じにしなければならない（**スケーリング**）\n",
    "- [0,1]の範囲に変換\n",
    "- 平均が0で分散が1の標準正規分布に変換"
   ]
  },
  {
   "cell_type": "markdown",
   "metadata": {},
   "source": [
    "相関が高い特徴量がある→**次元削減**が役に立つ\n",
    "- 処理の高速化\n",
    "- モデルの予測性能向上（ノイズが大量に含まれている場合）"
   ]
  },
  {
   "cell_type": "markdown",
   "metadata": {},
   "source": [
    "トレーニングデータの**分割**\n",
    "1. モデルの性能の比較するためにトレーニングデータを分割\n",
    "2. それぞれのモデルの汎化性能を推定するためにさらに分割→交差検証を行ったりする"
   ]
  }
 ],
 "metadata": {
  "kernelspec": {
   "display_name": "Python 3",
   "language": "python",
   "name": "python3"
  },
  "language_info": {
   "codemirror_mode": {
    "name": "ipython",
    "version": 3
   },
   "file_extension": ".py",
   "mimetype": "text/x-python",
   "name": "python",
   "nbconvert_exporter": "python",
   "pygments_lexer": "ipython3",
   "version": "3.6.5"
  }
 },
 "nbformat": 4,
 "nbformat_minor": 2
}
